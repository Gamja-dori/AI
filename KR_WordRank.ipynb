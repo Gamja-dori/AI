{
 "cells": [
  {
   "cell_type": "code",
   "execution_count": 12,
   "id": "f7d68e63-5c31-4f70-9445-6ddf88628465",
   "metadata": {},
   "outputs": [
    {
     "data": {
      "text/plain": [
       "['모바일 앱 개발자는 스마트폰이나 태블릿 등 모바일 기기에서 사용되는 소프트웨어인 모바일 애플리케이션을 개발하고 수정하는 일을 합니다.',\n",
       " ' 국내외의 모바일 앱 개발 흐름 및 우리나라 사람들의 모바일 기기 이용 특성에 적합한 애플리케이션을 기획하고 개발합니다.',\n",
       " ' 기업이나 기관이 이용하기 원하는 정보들을 체계적으로 모바일 앱을 이용하여 관리할 수 있는 다양한 기능의 애플리케이션을 만듭니다.',\n",
       " ' 애플리케이션이 작동하는데 필요한 구글 안드로이드, 애플, 윈도우 등 모바일 운영체제별로 기술 변경 사항 등에 대해 확인하고 고객의 요구 사항대로 앱을 개발하기 위한 기술 검토와 업무 분석을 합니다.',\n",
       " ' 새로 개발하거나 이미 개발된 애플리케이션과 관리 시스템 이용에 필요한 사용자 교육을 하거나 실제 모바일앱 운영에 필요한 시스템 구성과 관련된 내용을 고객과 회의를 통해 결정합니다.']"
      ]
     },
     "execution_count": 12,
     "metadata": {},
     "output_type": "execute_result"
    }
   ],
   "source": [
    "text = \"모바일 앱 개발자는 스마트폰이나 태블릿 등 모바일 기기에서 사용되는 소프트웨어인 모바일 애플리케이션을 개발하고 수정하는 일을 합니다. 국내외의 모바일 앱 개발 흐름 및 우리나라 사람들의 모바일 기기 이용 특성에 적합한 애플리케이션을 기획하고 개발합니다. 기업이나 기관이 이용하기 원하는 정보들을 체계적으로 모바일 앱을 이용하여 관리할 수 있는 다양한 기능의 애플리케이션을 만듭니다. 애플리케이션이 작동하는데 필요한 구글 안드로이드, 애플, 윈도우 등 모바일 운영체제별로 기술 변경 사항 등에 대해 확인하고 고객의 요구 사항대로 앱을 개발하기 위한 기술 검토와 업무 분석을 합니다. 새로 개발하거나 이미 개발된 애플리케이션과 관리 시스템 이용에 필요한 사용자 교육을 하거나 실제 모바일앱 운영에 필요한 시스템 구성과 관련된 내용을 고객과 회의를 통해 결정합니다.\"\n",
    "\n",
    "import re\n",
    "\n",
    "def split_sentences(text):\n",
    "    sentences = text.replace(\". \",\".\")\n",
    "    sentences = re.sub(r'([^\\n\\s\\.\\?!]+[^\\n\\.\\?!]*[\\.\\?!])', r'\\1\\n', text).strip().split(\"\\n\")\n",
    "    for s in sentences:\n",
    "        s = s.replace(u\"\\xa0\", u\" \")\n",
    "    return sentences\n",
    "\n",
    "split_sentences(text)"
   ]
  },
  {
   "cell_type": "code",
   "execution_count": 14,
   "id": "499f744b-e5e6-487f-95ae-c3206e287c71",
   "metadata": {},
   "outputs": [
    {
     "data": {
      "text/plain": [
       "['모바일 앱 개발자 스마트폰 태블릿 등 모바일 기기 사용 소프트웨어 모바일 애플리케이션 개발 수정 일.',\n",
       " '국내외 모바일 앱 개발 흐름 및 우리나라 사람 모바일 기기 이용 특성 애플리케이션 기획 개발.',\n",
       " '기업 기관 이용 정보 체계 모바일 앱 이용 관리 수 기능 애플리케이션 만듭니.',\n",
       " '애플리케이션 작동 구글 안드로이드 애플 윈도우 등 모바일 운영체제 별로 기술 변경 사항 등 대해 확인 고객 요구 사항 앱 개발 위 기술 검토 업무 분석.',\n",
       " '개발 거나 개발 애플리케이션 관리 시스템 이용 사용자 교육 거나 실제 모바일 앱 운영 시스템 구성 관련 내용 고객 회의 통해 결정.']"
      ]
     },
     "execution_count": 14,
     "metadata": {},
     "output_type": "execute_result"
    }
   ],
   "source": [
    "from konlpy.tag import Okt\n",
    "import re\n",
    "\n",
    "def split_noun_sentences(text):\n",
    "    okt = Okt()\n",
    "    sentences = text.replace(\". \",\".\")\n",
    "    sentences = re.sub(r'([^\\n\\s\\.\\?!]+[^\\n\\.\\?!]*[\\.\\?!])', r'\\1\\n', sentences).strip().split(\"\\n\")\n",
    "    \n",
    "    result = []\n",
    "    for sentence in sentences:\n",
    "        if len(sentence) == 0:\n",
    "            continue\n",
    "        sentence_pos = okt.pos(sentence, stem=True)\n",
    "        nouns = [word for word, pos in sentence_pos if pos == 'Noun']\n",
    "        if len(nouns) == 1:\n",
    "            continue\n",
    "        result.append(' '.join(nouns) + '.')\n",
    "        \n",
    "    return result\n",
    "\n",
    "split_noun_sentences(text)"
   ]
  },
  {
   "cell_type": "code",
   "execution_count": 18,
   "id": "8ace5e39-4340-40b3-8f8f-02d40ade53d7",
   "metadata": {},
   "outputs": [
    {
     "name": "stdout",
     "output_type": "stream",
     "text": [
      "     모바일:\t8.1131\n",
      " 애플리케이션을:\t3.4795\n",
      "     필요한:\t3.1806\n",
      "      개발:\t2.8239\n",
      "      기술:\t2.5201\n",
      "    사용되는:\t2.3383\n",
      "      관리:\t2.3215\n",
      "      앱을:\t2.3104\n",
      "    기획하고:\t2.1664\n",
      "    합니다.:\t2.0808\n",
      "      이용:\t2.0578\n",
      "      통해:\t2.0127\n",
      "      구글:\t1.9920\n",
      "      새로:\t1.9703\n",
      "   작동하는데:\t1.8203\n",
      "   만듭니다.:\t1.8010\n",
      "    정보들을:\t1.6712\n",
      "     시스템:\t1.6556\n",
      "     기능의:\t1.6188\n",
      "     적합한:\t1.5860\n",
      "     원하는:\t1.5610\n",
      "     태블릿:\t1.5291\n",
      "    국내외의:\t1.4500\n",
      "     기관이:\t1.4443\n",
      "      일을:\t1.4384\n",
      "      이미:\t1.3986\n",
      "  스마트폰이나:\t1.3980\n",
      "    기업이나:\t1.3917\n",
      "    사람들의:\t1.3549\n",
      "      요구:\t1.3216\n",
      "      업무:\t1.3173\n",
      "     고객과:\t1.2338\n",
      "     교육을:\t1.2071\n",
      "     운영에:\t1.1943\n",
      "     관련된:\t1.1717\n",
      "   체계적으로:\t1.1702\n",
      "      대해:\t1.1594\n",
      "  소프트웨어인:\t1.1542\n",
      "    기기에서:\t1.1307\n",
      "     내용을:\t1.1190\n",
      "      사항:\t1.0890\n",
      "      실제:\t1.0762\n",
      "    수정하는:\t1.0613\n",
      "     구성과:\t1.0508\n",
      "     분석을:\t1.0462\n",
      "     특성에:\t0.9789\n",
      "      위한:\t0.9634\n",
      "     회의를:\t0.9462\n",
      "     하거나:\t0.9319\n",
      "    확인하고:\t0.9166\n",
      "    우리나라:\t0.9158\n",
      "     다양한:\t0.7895\n",
      "      등에:\t0.7679\n",
      "      있는:\t0.7445\n",
      "  안드로이드,:\t0.7406\n",
      "      검토:\t0.6966\n",
      "      윈도:\t0.6839\n",
      "      결정:\t0.5975\n",
      "      변경:\t0.5949\n",
      "      흐름:\t0.4607\n"
     ]
    }
   ],
   "source": [
    "from krwordrank.word import KRWordRank\n",
    "\n",
    "min_count = 1   # 단어의 최소 출현 빈도수 (그래프 생성 시)\n",
    "max_length = 10 # 단어의 최대 길이\n",
    "wordrank_extractor = KRWordRank(min_count=min_count, max_length=max_length)\n",
    "beta = 0.85    # PageRank의 decaying factor beta\n",
    "max_iter = 20\n",
    "texts = split_sentences(text)\n",
    "keywords, rank, graph = wordrank_extractor.extract(texts, beta, max_iter)\n",
    "for word, r in sorted(keywords.items(), key=lambda x:x[1], reverse=True):\n",
    "        print('%8s:\\t%.4f' % (word, r))"
   ]
  },
  {
   "cell_type": "code",
   "execution_count": 20,
   "id": "1f86b060-b6d7-4082-804c-9a825f1f25c5",
   "metadata": {},
   "outputs": [
    {
     "name": "stdout",
     "output_type": "stream",
     "text": [
      "['모바일 앱 개발자는 스마트폰이나 태블릿 등 모바일 기기에서 사용되는 소프트웨어인 모바일 애플리케이션을 개발하고 수정하는 일을 합니다.', ' 국내외의 모바일 앱 개발 흐름 및 우리나라 사람들의 모바일 기기 이용 특성에 적합한 애플리케이션을 기획하고 개발합니다.', ' 기업이나 기관이 이용하기 원하는 정보들을 체계적으로 모바일 앱을 이용하여 관리할 수 있는 다양한 기능의 애플리케이션을 만듭니다.']\n"
     ]
    }
   ],
   "source": [
    "from krwordrank.sentence import summarize_with_sentences\n",
    "\n",
    "penalty=lambda x:0 if (25 <= len(x) <= 80 and not '흐름' in x) else 1,\n",
    "stopwords=[]\n",
    "keywords, sents = summarize_with_sentences(\n",
    "    texts,\n",
    "    penalty=penalty,\n",
    "    stopwords = stopwords,\n",
    "    diversity=0.5,\n",
    "    num_keywords=100,\n",
    "    num_keysents=3,\n",
    "    verbose=False\n",
    ")\n",
    "\n",
    "print(sents)"
   ]
  },
  {
   "cell_type": "code",
   "execution_count": null,
   "id": "601f0b62-d88e-4ab8-a059-2d16cc681098",
   "metadata": {},
   "outputs": [],
   "source": []
  }
 ],
 "metadata": {
  "kernelspec": {
   "display_name": "Python 3 (ipykernel)",
   "language": "python",
   "name": "python3"
  },
  "language_info": {
   "codemirror_mode": {
    "name": "ipython",
    "version": 3
   },
   "file_extension": ".py",
   "mimetype": "text/x-python",
   "name": "python",
   "nbconvert_exporter": "python",
   "pygments_lexer": "ipython3",
   "version": "3.11.5"
  }
 },
 "nbformat": 4,
 "nbformat_minor": 5
}
